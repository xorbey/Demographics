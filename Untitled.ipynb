{
 "cells": [
  {
   "cell_type": "markdown",
   "metadata": {},
   "source": [
    "# Influence on fertility rate on pensions and labor force - a novice approach\n",
    "\n",
    "Recently, I read a newspaper article regarding the demographic issues in Germany. It summarized what has been discussed for many years: The german population ages, nobody really knows how we will afford paying the pensions for our beloved parents, aunts or uncles. Furthermore, companies are scratching their heads how to fill this incoming labor force gap. Typical solutions revolve around:\n",
    "\n",
    "- improving Germany's immigration policies\n",
    "- increasing productivity by automation\n",
    "\n",
    "However, what is less discussed - at least from my perception - is the core of the problem: Our fertility rate (the number of births per woman) is at 1.5 while they should be at 2.1. I guess it's easy to argue that this is not discussed as it is much harder to convince a society to get more kids compared to changing immigration legislation or set up some orange robots in a car plant that never sleep. Nevertheless, I was interested in the effect our fertility rate has on our labor force and the ratio between labor force and pensioners. This is why I came up with a simple model to calculate our future demographics that will be discussed in the next sections.\n",
    "\n",
    "### Structure\n",
    "\n",
    "The remainder of this post discusses the assumptions the model takes, its core functionality, the actual code used and the analysis results, as well as a short summary and an outlook.\n",
    "\n",
    "### Model assumptions\n",
    "\n",
    "- The model assumes constant birthrates, current birthrates are taken for 2021 from this website:\n",
    "https://www.destatis.de/DE/Themen/Gesellschaft-Umwelt/Bevoelkerung/Geburten/_inhalt.html\n",
    "The number of birhts is dependent of the number of fertile women (between the age 15 and 50)\n",
    "- 51% of newborn babies are female, 49% are male (This represents also the current distribution in the population)\n",
    "- The model uses the current demographic pyramid that divides Germany's population by sex and by age buckets of 5 years. The pyramid is taken from this website:\n",
    "https://service.destatis.de/bevoelkerungspyramide/index.html\n",
    "- Furthermore, the model assumes constant deathrates as a percentage of these buckets. Deathrates are collected from data at this website:\n",
    "https://www.destatis.de/DE/Themen/Gesellschaft-Umwelt/Bevoelkerung/Sterbefaelle-Lebenserwartung/Tabellen/sonderauswertung-sterbefaelle.html\n",
    "- All people older than 105 years die (no new age world records in this model, sorry.)\n",
    "- Immigration adds people to the demographic pyramid. The immigrants' age is uniform distributed between 0 - 60 and between gender.\n",
    "- Automation adds 1.5% to the current workforce per five years\n",
    "\n",
    "### Model workflow\n",
    "\n",
    "The model principle is easy. It calculates for every 5 years:\n",
    "1. people dying because of the deathrates per sex and per age bucket\n",
    "2. people being born and aging given a constant birthrate or an increasing birth rate\n",
    "3. adding immigration to the demographic pyramid (otpional)\n",
    "4. calculating the total labor force (people of age between 20 and 70) (optional)\n",
    "5. adding a 1.5% increase in working population through automation (optional)\n",
    "\n",
    "Afterwards, it plots the absolute number of working people defined as people being over 20 and under 70 (feel free to refine this with rates) and the number of people over 70 called the pensioners.\n",
    "Furthermore, it plots the ratio of working people to the pensioners.\n",
    "### Code and results"
   ]
  },
  {
   "cell_type": "markdown",
   "metadata": {},
   "source": [
    "#### Imports"
   ]
  },
  {
   "cell_type": "code",
   "execution_count": 1,
   "metadata": {},
   "outputs": [],
   "source": [
    "import pandas as pd\n",
    "import matplotlib.pyplot as plt\n",
    "import plotly.graph_objects as go\n",
    "from plotly.subplots import make_subplots\n",
    "import plotly.offline as pyo\n",
    "import plotly.io as pio\n",
    "pio.renderers.default = \"browser\""
   ]
  },
  {
   "cell_type": "markdown",
   "metadata": {},
   "source": [
    "#### Functions"
   ]
  },
  {
   "cell_type": "code",
   "execution_count": 9,
   "metadata": {},
   "outputs": [],
   "source": [
    "# Function to calculate the deaths per bucket and sex based on the demographic pyramid\n",
    "def getDeaths(df, deathrates):\n",
    "    df[\"M\"] = df[\"M\"] * ((1-deathrates[\"M\"])**5)\n",
    "    df[\"F\"] = df[\"F\"] * ((1-deathrates[\"W\"])**5)\n",
    "    df[df < 0] = 0\n",
    "    return df\n",
    "\n",
    "#Function to calculate the aging and births based on the demographic pyramid\n",
    "def getTimeStep(df, births):\n",
    "    for e in range(1, len(df)):\n",
    "        df.iloc[-e, 1] = df.iloc[-e-1, 1]\n",
    "        df.iloc[-e, 2] = df.iloc[-e-1, 2]\n",
    "    df.iloc[0, 1] = 0.49 * births *5\n",
    "    df.iloc[0, 2] = 0.51 * births *5\n",
    "    return df\n",
    "\n",
    "def getBirthRate(i,births, risingBirthRate, fertilewomenzero, fertilewomen):\n",
    "    if risingBirthRate == True:\n",
    "        birthrate = (births*(fertilewomen/fertilewomenzero))*(1+(0.13*i)) if i <= 3 else (births*(fertilewomen/fertilewomenzero))*(2.1/1.5)\n",
    "    else:\n",
    "        birthrate = births*(fertilewomen/fertilewomenzero)\n",
    "    return birthrate\n",
    "\n",
    "def calculateScenario(pyramidnew, births,immigrationpyramid = None, risingBirthRate = False, automation = False, unemploymentrate = 0.05):\n",
    "    fertilewomenzero = pyramidnew[\"F\"].loc[(pyramidnew[\"Age\"] >= 15) & (pyramidnew[\"Age\"]<= 50)].sum()\n",
    "    working = {}\n",
    "    pension = {}\n",
    "    population = {}\n",
    "    for i in range(10):\n",
    "        pyramidnew = getDeaths(pyramidnew, deathrates)\n",
    "        fertilewomen = pyramidnew[\"F\"].loc[(pyramidnew[\"Age\"] >= 15) & (pyramidnew[\"Age\"]<= 50)].sum()\n",
    "        birthrate = getBirthRate(i,births, risingBirthRate, fertilewomenzero, fertilewomen)\n",
    "        pyramidnew = getTimeStep(pyramidnew, birthrate)\n",
    "        if immigrationpyramid is not None:\n",
    "            pyramidnew[\"M\"] = pyramidnew[\"M\"] + (immigrationpyramid[\"M\"]*5)\n",
    "            pyramidnew[\"F\"] = pyramidnew[\"F\"] + (immigrationpyramid[\"F\"]*5)\n",
    "        working[i*5] = pyramidnew.loc[(pyramidnew[\"Age\"] > 18) & (pyramidnew[\"Age\"] < 70)].sum()[\"F\"] + pyramidnew.loc[(pyramidnew[\"Age\"] > 18) & (pyramidnew[\"Age\"] < 70)].sum()[\"M\"]\n",
    "        if automation == True:\n",
    "            working[i*5]  = working[i*5]*(1+(i*0.015))\n",
    "        pension[i*5] = pyramidnew.loc[pyramidnew[\"Age\"] > 70].sum()[\"F\"] + pyramidnew.loc[pyramidnew[\"Age\"] > 70].sum()[\"M\"]\n",
    "        population[i*5] = pyramidnew[\"M\"].sum() + pyramidnew[\"F\"].sum()\n",
    "    working = pd.Series(working, name = \"Working\")*(1-unemploymentrate)\n",
    "    pension = pd.Series(pension, name = \"Pension\")\n",
    "    population = pd.Series(population, name = \"Population\")\n",
    "    ratio = working/pension\n",
    "    return working, pension, population, ratio\n",
    "\n",
    "def transition(pyramidnew, automation = False, unemploymentrate = 0.05):\n",
    "        pyramidnew[\"F\"].loc[0,1,2] = 0\n",
    "        pyramidnew[\"M\"].loc[0,1,2] = 0\n",
    "        working = {}\n",
    "        pension = {}\n",
    "        population = {}\n",
    "        for i in range(10):\n",
    "            pyramidnew = getDeaths(pyramidnew, deathrates)\n",
    "            pyramidnew = getTimeStep(pyramidnew, 0)\n",
    "            working[i*5] = pyramidnew.loc[(pyramidnew[\"Age\"] > 18) & (pyramidnew[\"Age\"] < 70)].sum()[\"F\"] + pyramidnew.loc[(pyramidnew[\"Age\"] > 18) & (pyramidnew[\"Age\"] < 70)].sum()[\"M\"]\n",
    "            if automation == True:\n",
    "                working[i*5]  = working[i*5]*(1+(i*0.015))\n",
    "            pension[i*5] = pyramidnew.loc[pyramidnew[\"Age\"] > 70].sum()[\"F\"] + pyramidnew.loc[pyramidnew[\"Age\"] > 70].sum()[\"M\"]\n",
    "            population[i*5] = pyramidnew[\"M\"].sum() + pyramidnew[\"F\"].sum()\n",
    "        working = pd.Series(working, name = \"Working\")*(1-unemploymentrate)\n",
    "        pension = pd.Series(pension, name = \"Pension\")\n",
    "        population = pd.Series(population, name = \"Population\")\n",
    "        ratio = working/pension\n",
    "        return working, pension, population, ratio"
   ]
  },
  {
   "cell_type": "markdown",
   "metadata": {},
   "source": [
    "#### Testing the getDeaths function\n",
    "\n",
    "Populations in the buckets should decrease over time"
   ]
  },
  {
   "cell_type": "code",
   "execution_count": 3,
   "metadata": {},
   "outputs": [],
   "source": [
    "pyramid = pd.read_csv(\"Germany-2022.csv\")\n",
    "pyramid[\"Age\"] = [int(e[e.find(\"-\")+1:]) + 1 if  \"-\" in e else 105 for e in pyramid[\"Age\"]]\n",
    "deathrates = pd.read_excel(\"sonderauswertung-sterbefaelle.xlsx\", \"Auswertung\")\n",
    "deathrates[\"M\"] = deathrates[\"M\"]/pyramid[\"M\"]\n",
    "deathrates[\"W\"] = deathrates[\"W\"]/pyramid[\"F\"]"
   ]
  },
  {
   "cell_type": "code",
   "execution_count": 4,
   "metadata": {},
   "outputs": [],
   "source": [
    "pyramid = pd.read_csv(\"Germany-2022.csv\")\n",
    "pyramid[\"Age\"] = [int(e[e.find(\"-\")+1:]) + 1 if  \"-\" in e else 105 for e in pyramid[\"Age\"]]\n",
    "test = pd.DataFrame(pyramid[\"M\"].values).T\n",
    "test.columns = pyramid.Age\n",
    "for e in range(5):\n",
    "    pyramid = getDeaths(pyramid, deathrates)\n",
    "    toappend = pd.DataFrame(pyramid[\"M\"].values).T\n",
    "    toappend.columns = pyramid.Age\n",
    "    test = test.append(toappend)"
   ]
  },
  {
   "cell_type": "code",
   "execution_count": 5,
   "metadata": {
    "jupyter": {
     "outputs_hidden": true
    }
   },
   "outputs": [
    {
     "data": {
      "text/plain": [
       "<matplotlib.legend.Legend at 0x2be1c99dbe0>"
      ]
     },
     "execution_count": 5,
     "metadata": {},
     "output_type": "execute_result"
    },
    {
     "data": {
      "image/png": "[encoded data removed]",
      "text/plain": [
       "<Figure size 576x432 with 1 Axes>"
      ]
     },
     "metadata": {
      "needs_background": "light"
     },
     "output_type": "display_data"
    }
   ],
   "source": [
    "test.index = [e for e in range(6)]\n",
    "test.plot(figsize=(8,6))\n",
    "plt.legend(loc='center left', bbox_to_anchor=(1.0, 0.5))"
   ]
  },
  {
   "cell_type": "markdown",
   "metadata": {},
   "source": [
    "#### Testing the aging and birth function\n",
    "\n",
    "Population buckets should change stepwise, births should appear in the first bucket"
   ]
  },
  {
   "cell_type": "code",
   "execution_count": 6,
   "metadata": {
    "jupyter": {
     "outputs_hidden": true
    }
   },
   "outputs": [
    {
     "name": "stdout",
     "output_type": "stream",
     "text": [
      "    Age        M        F\n",
      "0     5  2106176  1998665\n",
      "1    10  2015647  1904028\n",
      "2    15  1965266  1831163\n",
      "3    20  2086663  1920887\n",
      "4    25  2326305  2127249\n",
      "5    30  2481570  2264219\n",
      "6    35  2741670  2525001\n",
      "7    40  2848679  2693190\n",
      "8    45  2641181  2576103\n",
      "9    50  2497601  2470398\n",
      "10   55  3051802  3033906\n",
      "11   60  3433952  3454317\n",
      "12   65  3045068  3143498\n",
      "13   70  2442203  2673652\n",
      "14   75  1871524  2147452\n",
      "15   80  1555258  1890112\n",
      "16   85  1332816  1823819\n",
      "17   90   739734  1168031\n",
      "18   95   258132   522753\n",
      "19  100    65642   183974\n",
      "20  105     4525    19756\n",
      "    Age           M           F\n",
      "0     5  1949016.65  2028568.35\n",
      "1    10  2106176.00  1998665.00\n",
      "2    15  2015647.00  1904028.00\n",
      "3    20  1965266.00  1831163.00\n",
      "4    25  2086663.00  1920887.00\n",
      "5    30  2326305.00  2127249.00\n",
      "6    35  2481570.00  2264219.00\n",
      "7    40  2741670.00  2525001.00\n",
      "8    45  2848679.00  2693190.00\n",
      "9    50  2641181.00  2576103.00\n",
      "10   55  2497601.00  2470398.00\n",
      "11   60  3051802.00  3033906.00\n",
      "12   65  3433952.00  3454317.00\n",
      "13   70  3045068.00  3143498.00\n",
      "14   75  2442203.00  2673652.00\n",
      "15   80  1871524.00  2147452.00\n",
      "16   85  1555258.00  1890112.00\n",
      "17   90  1332816.00  1823819.00\n",
      "18   95   739734.00  1168031.00\n",
      "19  100   258132.00   522753.00\n",
      "20  105    65642.00   183974.00\n"
     ]
    }
   ],
   "source": [
    "births = 795517\n",
    "pyramid = pd.read_csv(\"Germany-2022.csv\")\n",
    "pyramid[\"Age\"] = [int(e[e.find(\"-\")+1:]) + 1 if  \"-\" in e else 105 for e in pyramid[\"Age\"]]\n",
    "print(pyramid)\n",
    "test = getTimeStep(pyramid, births)\n",
    "print(pyramid)"
   ]
  },
  {
   "cell_type": "markdown",
   "metadata": {},
   "source": [
    "#### Calculating different scenarios considering immigration, automation and fertility"
   ]
  },
  {
   "cell_type": "code",
   "execution_count": 7,
   "metadata": {},
   "outputs": [],
   "source": [
    "births = 795517\n",
    "pyramid = pd.read_csv(\"Germany-2022.csv\")\n",
    "pyramid[\"Age\"] = [int(e[e.find(\"-\")+1:]) + 1 if  \"-\" in e else 105 for e in pyramid[\"Age\"]]\n",
    "pyramidnew = pyramid.copy()\n",
    "immigration = 500000\n",
    "immigrationpyramid = pd.read_excel(\"ImmigrationPyramid.xlsx\")\n",
    "immigrationpyramid[\"M\"] = immigrationpyramid[\"M\"]*0.5*immigration\n",
    "immigrationpyramid[\"F\"] = immigrationpyramid[\"F\"]*0.5*immigration\n"
   ]
  },
  {
   "cell_type": "markdown",
   "metadata": {},
   "source": [
    "### Results"
   ]
  },
  {
   "cell_type": "code",
   "execution_count": 11,
   "metadata": {},
   "outputs": [],
   "source": [
    "pyramidnew = pyramid.copy()\n",
    "scenarios = {}\n",
    "scenarios[\"base\"] = calculateScenario(pyramidnew, births,immigrationpyramid = None, risingBirthRate = False, automation = False, unemploymentrate = 0.05)\n",
    "pyramidnew = pyramid.copy()\n",
    "scenarios[\"immigration\"] = calculateScenario(pyramidnew, births,immigrationpyramid = immigrationpyramid, risingBirthRate = False, automation = False, unemploymentrate = 0.05)\n",
    "pyramidnew = pyramid.copy()\n",
    "scenarios[\"immigration + automation\"] = calculateScenario(pyramidnew, births,immigrationpyramid = immigrationpyramid, risingBirthRate = False, automation = True, unemploymentrate = 0.05)\n",
    "pyramidnew = pyramid.copy()\n",
    "scenarios[\"immigration + automation + fertility\"] = calculateScenario(pyramidnew, births,immigrationpyramid = immigrationpyramid, risingBirthRate = True, automation = True, unemploymentrate = 0.05)"
   ]
  },
  {
   "cell_type": "code",
   "execution_count": 17,
   "metadata": {},
   "outputs": [],
   "source": [
    "fig = make_subplots(rows = 2, cols = 2, subplot_titles=(\"Baseline scenario\", \"Immigration\", \"Immigration + automation\", \"Immigration + automation + fertility\"), x_title='Time in years',\n",
    "                    y_title='Population',)\n",
    "\n",
    "fig.add_trace(go.Scatter(x = scenarios[\"base\"][0].index + 2022, y = scenarios[\"base\"][0], line_color = \"red\", name = \"Working force\"), row = 1, col = 1)\n",
    "fig.add_trace(go.Scatter(x = scenarios[\"base\"][0].index + 2022, y = scenarios[\"base\"][1],line_color = \"blue\", name = \"Pensioners\"), row = 1, col = 1)\n",
    "#fig.add_trace(go.Scatter(x = scenarios[\"base\"][0].index + 2022, y = scenarios[\"base\"][2],line_color = \"green\", name = \"Population\"), row = 1, col = 1)\n",
    " \n",
    "fig.add_trace(go.Scatter(x = scenarios[\"immigration\"][0].index + 2022, y = scenarios[\"immigration\"][0], line_color = \"red\", name = \"Working force\", showlegend = False), row = 1, col = 2)\n",
    "fig.add_trace(go.Scatter(x = scenarios[\"immigration\"][0].index + 2022, y = scenarios[\"immigration\"][1],line_color = \"blue\", name = \"Pensioners\", showlegend = False), row = 1, col = 2)\n",
    "#fig.add_trace(go.Scatter(x = scenarios[\"immigration\"][0].index + 2022, y = scenarios[\"immigration\"][2],line_color = \"green\", name = \"Population\"), row = 1, col = 2)\n",
    "\n",
    "fig.add_trace(go.Scatter(x = scenarios[\"immigration + automation\"][0].index + 2022, y = scenarios[\"immigration + automation\"][0], line_color = \"red\", name = \"Working force\", showlegend = False), row = 2, col = 1)\n",
    "fig.add_trace(go.Scatter(x = scenarios[\"immigration + automation\"][0].index + 2022, y = scenarios[\"immigration + automation\"][1],line_color = \"blue\", name = \"Pensioners\", showlegend = False), row = 2, col = 1)\n",
    "#fig.add_trace(go.Scatter(x = scenarios[\"immigration + automation\"][0].index + 2022, y = scenarios[\"immigration + automation\"][2],line_color = \"green\", name = \"Population\"), row = 2, col = 1)\n",
    "\n",
    "fig.add_trace(go.Scatter(x = scenarios[\"immigration + automation + fertility\"][0].index + 2022, y = scenarios[\"immigration + automation + fertility\"][0], line_color = \"red\", name = \"Working force\", showlegend = False), row = 2, col = 2)\n",
    "fig.add_trace(go.Scatter(x = scenarios[\"immigration + automation + fertility\"][0].index + 2022, y = scenarios[\"immigration + automation + fertility\"][1],line_color = \"blue\", name = \"Pensioners\", showlegend = False), row = 2, col = 2)\n",
    "#fig.add_trace(go.Scatter(x = scenarios[\"immigration + automation + fertility\"][0].index + 2022, y = scenarios[\"immigration + automation + fertility\"][2],line_color = \"green\", name = \"Population\"), row = 2, col = 2)\n",
    "fig.update_layout(height=700, width=900,template = \"simple_white\")\n",
    "fig.show()"
   ]
  },
  {
   "cell_type": "code",
   "execution_count": 13,
   "metadata": {},
   "outputs": [],
   "source": [
    "fig = go.Figure(go.Scatter(x = scenarios[\"base\"][0].index +2022, y = scenarios[\"base\"][3], name = \"base\"))\n",
    "fig.add_trace(go.Scatter(x = scenarios[\"immigration\"][0].index +2022, y = scenarios[\"immigration\"][3], name = \"immigration\"))\n",
    "fig.add_trace(go.Scatter(x = scenarios[\"immigration + automation\"][0].index +2022, y = scenarios[\"immigration + automation\"][3], name = \"immigration + automation\"))\n",
    "fig.add_trace(go.Scatter(x = scenarios[\"immigration + automation + fertility\"][0].index+ 2022, y = scenarios[\"immigration + automation + fertility\"][3], name = \"immigration + automation + fertility\"))\n",
    "fig.update_layout(title = \"Ratio between labor force and pensioners\", height=700, width=900,template = \"simple_white\")\n",
    "fig.show()"
   ]
  },
  {
   "cell_type": "markdown",
   "metadata": {},
   "source": [
    "###  Results\n",
    "The charts above show several things. Most obvious:\n",
    "    \n",
    "    - With our current fertility rate the number of working people will continuously decrease.\n",
    "    - The number of pensioners will spike around 2035 and decline afterwards again.\n",
    "    - These changes in our demographic structure lead to a decrease in the ratio of working force and pensioners. In the 2030s 9 working persons will have to pay the pensions for 4 eldery persons.\n",
    "    - If we could manage to have a net immigration of 500000 people - 75% of these being over 20 and working - 10 people had to supply four pensioners\n",
    "    - Immigration and automation are the better short time measures, effects take place immediately\n",
    "    - Immigration also has a self-powering effect: As immigrants also have babies, the workforce is increased with a time lag of 20 years\n",
    "    - To return to the status quo of having 3.2 workers per pensioner, higher fertility rates and automation would be key, this could happen in the end of the 2040s/2050s"
   ]
  },
  {
   "cell_type": "markdown",
   "metadata": {},
   "source": [
    "### Influence on government spendings\n",
    "\n",
    "Next, let's have a look at the influences of these developments on additional government spendings. We will calculate the additional spendings of the government required to compensate the missing earnings through the decreasing working force.\n",
    "Data taken from here:\n",
    "https://www.deutsche-rentenversicherung.de/SharedDocs/Downloads/DE/Traeger/Bund/Wir_ueber_uns_und_Presse/vorwort_haushaltsplan.pdf;jsessionid=0F14F6A49D730FAAFEBCEFC707EEF673.delivery2-9-replication?__blob=publicationFile&v=1\n",
    "\n",
    "https://www.bundesregierung.de/breg-de/suche/bundestag-bundeshaushalt-2021-1825670\n",
    "\n",
    "Assuming an annual spending growth rate of 2% \n"
   ]
  },
  {
   "cell_type": "code",
   "execution_count": 14,
   "metadata": {},
   "outputs": [],
   "source": [
    "#Numbers in billion €\n",
    "totalspendingsGov = pd.Series([498.6*((1.02)**e) for e in range(10)], index = [5*e for e in range(10)])\n",
    "earningsPens = 114\n",
    "spendingsPens = 159\n",
    "subsGov = 42\n",
    "\n",
    "fig = go.Figure()\n",
    "\n",
    "spendingsOverTime = (scenarios[\"base\"][1]/scenarios[\"base\"][1].iloc[0])*spendingsPens\n",
    "earningsOverTime = (scenarios[\"base\"][0]/scenarios[\"base\"][0].iloc[0])*earningsPens\n",
    "subsGovOverTime = spendingsOverTime-earningsOverTime\n",
    "subsGovPerc = subsGovOverTime/totalspendingsGov\n",
    "fig.add_trace(go.Scatter(x = subsGovPerc.index+2022, y = subsGovPerc, name = \"Base\"))\n",
    "\n",
    "spendingsOverTime = (scenarios[\"immigration\"][1]/scenarios[\"immigration\"][1].iloc[0])*spendingsPens\n",
    "earningsOverTime = (scenarios[\"immigration\"][0]/scenarios[\"immigration\"][0].iloc[0])*earningsPens\n",
    "subsGovOverTime = spendingsOverTime-earningsOverTime\n",
    "subsGovPerc = subsGovOverTime/totalspendingsGov\n",
    "fig.add_trace(go.Scatter(x = subsGovPerc.index+2022, y = subsGovPerc, name = \"immigration\"))\n",
    "\n",
    "spendingsOverTime = (scenarios[\"immigration + automation\"][1]/scenarios[\"immigration + automation\"][1].iloc[0])*spendingsPens\n",
    "earningsOverTime = (scenarios[\"immigration + automation\"][0]/scenarios[\"immigration + automation\"][0].iloc[0])*earningsPens\n",
    "subsGovOverTime = spendingsOverTime-earningsOverTime\n",
    "subsGovPerc = subsGovOverTime/totalspendingsGov\n",
    "fig.add_trace(go.Scatter(x = subsGovPerc.index+2022, y = subsGovPerc, name = \"immigration + automation\"))\n",
    "\n",
    "spendingsOverTime = (scenarios[\"immigration + automation + fertility\"][1]/scenarios[\"immigration + automation + fertility\"][1].iloc[0])*spendingsPens\n",
    "earningsOverTime = (scenarios[\"immigration + automation + fertility\"][0]/scenarios[\"immigration + automation + fertility\"][0].iloc[0])*earningsPens\n",
    "subsGovOverTime = spendingsOverTime-earningsOverTime\n",
    "subsGovPerc = subsGovOverTime/totalspendingsGov\n",
    "fig.add_trace(go.Scatter(x = subsGovPerc.index+2022, y = subsGovPerc, name = \"immigration + automation + fertility\"))\n",
    "fig.update_layout(title = \"Percentage of government spending on pensions\", height=700, width=900,template = \"simple_white\")\n",
    "\n",
    "fig.show()"
   ]
  },
  {
   "cell_type": "markdown",
   "metadata": {},
   "source": [
    "### Findings\n",
    "\n",
    "So looking at this chart tells us bascially two things. Given the current system, there is nothing we can do to reduce the increase in spendings in the 2030s. We can only influence how high this spike will be and how fast we will recover from it. \n",
    "\n",
    "- In the worst case, we would spend a maximum  of 19% of government spendings on pensions. In the best case, we would spike at 15.6% government spendings. \n",
    "- Furthermore, the recovery to the same spending level we are at now would happen in the early 2050s in the best case... :O\n",
    "\n",
    "So, there might be the question to change that by adapting to a new system in which every working person basically invests in an individual fund. If that system would be in place, it would be independent of demographics.\n",
    "However, during a transition phase, the working force paying money into the traditional system would continuously decrease. To keep the level of pensions, the government spendings would have to increase until all people being still in the old system died. let's assume this transition starts drastically in five years with all new entries in the working force contributing only to the new system. Then, this change would lead to first increased and then constant government spendings. In 55 years from now, the new system would actually start paying back its contributors and the government spendings would decrease again. Let's have a look at the numbers:"
   ]
  },
  {
   "cell_type": "code",
   "execution_count": 15,
   "metadata": {},
   "outputs": [],
   "source": [
    "pyramidnew = pyramid.copy()\n",
    "scenarios[\"pensionTransition\"] = transition(pyramidnew, automation = True, unemploymentrate = 0.05)"
   ]
  },
  {
   "cell_type": "code",
   "execution_count": 16,
   "metadata": {},
   "outputs": [],
   "source": [
    "scenario = \"pensionTransition\"\n",
    "spendingsOverTime = (scenarios[scenario][1]/scenarios[scenario][1].iloc[0])*spendingsPens\n",
    "earningsOverTime = (scenarios[scenario][0]/scenarios[scenario][0].iloc[0])*earningsPens\n",
    "subsGovOverTime = spendingsOverTime-earningsOverTime\n",
    "subsGovPerc = subsGovOverTime/totalspendingsGov\n",
    "fig.add_trace(go.Scatter(x = subsGovPerc.index+2022, y = subsGovPerc, name = scenario))\n",
    "fig.update_layout(title = \"Percentage of government spending on pensions\", height=700, width=900,template = \"simple_white\")\n"
   ]
  },
  {
   "cell_type": "code",
   "execution_count": null,
   "metadata": {},
   "outputs": [],
   "source": []
  }
 ],
 "metadata": {
  "kernelspec": {
   "display_name": "Python 3",
   "language": "python",
   "name": "python3"
  },
  "language_info": {
   "codemirror_mode": {
    "name": "ipython",
    "version": 3
   },
   "file_extension": ".py",
   "mimetype": "text/x-python",
   "name": "python",
   "nbconvert_exporter": "python",
   "pygments_lexer": "ipython3",
   "version": "3.8.5"
  },
  "vscode": {
   "interpreter": {
    "hash": "5e844dc63eb52d486175d12c11fcff9608262dbfc296ff5ae431add8fb94863e"
   }
  }
 },
 "nbformat": 4,
 "nbformat_minor": 4
}
